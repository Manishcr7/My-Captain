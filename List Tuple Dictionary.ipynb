{
 "cells": [
  {
   "cell_type": "code",
   "execution_count": 35,
   "metadata": {},
   "outputs": [
    {
     "name": "stdout",
     "output_type": "stream",
     "text": [
      "12\n",
      "-14\n",
      "[12, -7, 5, 64, -14]\n",
      "[12, -7, 5, 64, -14, 9]\n",
      "[12, -7, 5, 64, -14, 9, 1, 6, 7, 5, 8]\n",
      "[0, 0, 0, 0, 0, 0, 0, 0, 0, 0, 0, 0, 0, 0, 0]\n",
      "[0, 0, 0, 0, 0, 0, 0, 0, 0, 0, 0, 0, 0, 0, 0]\n",
      "[10, 10, 10, 10, 10, 10, 10, 10, 10, 10, 0, 0, 0, 0]\n"
     ]
    }
   ],
   "source": [
    "#Assingning elements to different lists\n",
    "a=[12,-7,5,64,-14]\n",
    "b=[1,6,7,5,8]\n",
    "#printing the 0th elemnt in a list \n",
    "print(a[0])\n",
    "#reverse indexing\n",
    "print(a[-1])\n",
    "#printing the list \n",
    "print(a)\n",
    "#adding elements in amn array\n",
    "a.append(9)\n",
    "print(a)\n",
    "#adding two array\n",
    "print(a+b)\n",
    "#creating list using a range\n",
    "n1 = [0 for i in range(15)]\n",
    "n2 = [0] * 15\n",
    "\n",
    "print(n1)\n",
    "print(n2)\n",
    "\n",
    "n1[0:11] = [10] * 10\n",
    "\n",
    "print(n1)\n",
    "\n",
    "\n"
   ]
  },
  {
   "cell_type": "code",
   "execution_count": 26,
   "metadata": {
    "scrolled": true
   },
   "outputs": [
    {
     "name": "stdout",
     "output_type": "stream",
     "text": [
      "b\n",
      "5\n",
      "('a', 'c', 'b', 'f', 'h')\n"
     ]
    }
   ],
   "source": [
    "#Accessing elements in tuple\n",
    "c=('a','c','b','f','h')\n",
    "#printing the 2nd elemnt in a tuple\n",
    "print(c[2])\n",
    "#lenght of the tuple\n",
    "print(len(c))\n",
    "#printing the tuple\n",
    "print(c)\n"
   ]
  },
  {
   "cell_type": "code",
   "execution_count": 31,
   "metadata": {},
   "outputs": [
    {
     "name": "stdout",
     "output_type": "stream",
     "text": [
      "{'Manish': 22, 'Sid': 21, 'Abin': 21}\n"
     ]
    }
   ],
   "source": [
    "#deleting elements from dictionary\n",
    "info= {\"Manish\" : 22, \"Sid\" : 21, \"Mani\" : 21, \"Abin\": 21}\n",
    "#deleting using the delete function\n",
    "del info['Mani'] \n",
    "print(info)"
   ]
  },
  {
   "cell_type": "code",
   "execution_count": 34,
   "metadata": {},
   "outputs": [
    {
     "name": "stdout",
     "output_type": "stream",
     "text": [
      "21\n"
     ]
    }
   ],
   "source": [
    "info1= {\"Manish\" : 22, \"Sid\" : 21, \"Mani\" : 21, \"Abin\": 21}\n",
    "#deleting usting the pop function\n",
    "removed =info1.pop('Mani') \n",
    "print(removed)\n"
   ]
  },
  {
   "cell_type": "code",
   "execution_count": null,
   "metadata": {},
   "outputs": [],
   "source": []
  }
 ],
 "metadata": {
  "kernelspec": {
   "display_name": "Python 3",
   "language": "python",
   "name": "python3"
  },
  "language_info": {
   "codemirror_mode": {
    "name": "ipython",
    "version": 3
   },
   "file_extension": ".py",
   "mimetype": "text/x-python",
   "name": "python",
   "nbconvert_exporter": "python",
   "pygments_lexer": "ipython3",
   "version": "3.7.7"
  }
 },
 "nbformat": 4,
 "nbformat_minor": 4
}
